{
 "cells": [
  {
   "cell_type": "code",
   "execution_count": null,
   "metadata": {},
   "outputs": [],
   "source": [
    "import param\n",
    "import panel as pn\n",
    "\n",
    "pn.extension()"
   ]
  },
  {
   "cell_type": "code",
   "execution_count": null,
   "metadata": {},
   "outputs": [],
   "source": [
    "class ActionExample(param.Parameterized):\n",
    "    \"\"\"\n",
    "    Demonstrates how to use param.Action to trigger an update.\n",
    "    \"\"\"\n",
    "\n",
    "    number = param.Number(default=0)\n",
    "    \n",
    "    action = param.Action(lambda x: x.param.trigger('action'), label='Click here!')\n",
    "        \n",
    "    @param.depends('action')\n",
    "    def get_number(self):\n",
    "        return self.number\n",
    "    \n",
    "action_example = ActionExample()\n",
    "pn.Column(\n",
    "    '# param.Action Example',\n",
    "    pn.Row(\n",
    "        pn.Column(\n",
    "            *pn.panel(action_example.param, show_labels=False)[1:],\n",
    "            'Click the button to trigger an update in the output.'\n",
    "        ),\n",
    "        pn.WidgetBox(action_example.get_number, width=300)\n",
    "    )\n",
    ").servable()"
   ]
  }
 ],
 "metadata": {
  "kernelspec": {
   "display_name": "Python 3",
   "language": "python",
   "name": "python3"
  },
  "language_info": {
   "codemirror_mode": {
    "name": "ipython",
    "version": 3
   },
   "file_extension": ".py",
   "mimetype": "text/x-python",
   "name": "python",
   "nbconvert_exporter": "python",
   "pygments_lexer": "ipython3",
   "version": "3.6.8"
  }
 },
 "nbformat": 4,
 "nbformat_minor": 2
}
